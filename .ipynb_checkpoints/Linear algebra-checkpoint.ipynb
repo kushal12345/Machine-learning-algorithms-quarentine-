{
 "cells": [
  {
   "cell_type": "markdown",
   "metadata": {},
   "source": [
    "# Linear Algebra"
   ]
  },
  {
   "cell_type": "markdown",
   "metadata": {},
   "source": [
    "## Slope of straight line"
   ]
  },
  {
   "cell_type": "code",
   "execution_count": 3,
   "metadata": {},
   "outputs": [],
   "source": [
    "%matplotlib inline\n",
    "import matplotlib as mpl\n",
    "import matplotlib.pyplot as plt\n",
    "import numpy as np"
   ]
  },
  {
   "cell_type": "code",
   "execution_count": 4,
   "metadata": {},
   "outputs": [],
   "source": [
    "# to get smooth animation\n",
    "import matplotlib.animation as animation\n",
    "mpl.rc('animation', html='jshtml')"
   ]
  },
  {
   "cell_type": "code",
   "execution_count": 6,
   "metadata": {},
   "outputs": [
    {
     "data": {
      "image/png": "[encoded data removed]",
      "text/plain": [
       "<Figure size 432x288 with 1 Axes>"
      ]
     },
     "metadata": {
      "needs_background": "light"
     },
     "output_type": "display_data"
    }
   ],
   "source": [
    "def get_AB_line(A_pos, B_pos, x_min=-1000, x_max=+1000):\n",
    "    rise = B_pos[1] - A_pos[1]\n",
    "    run = B_pos[0] - A_pos[0]\n",
    "    Slope = rise/run\n",
    "    offset = A_pos[1] - Slope * A_pos[0]\n",
    "    return [x_min, x_max], [x_min * Slope + offset, x_max * Slope + offset]\n",
    "\n",
    "def plot_AB_line(A_pos, B_pos, A_name=\"A\", B_name=\"B\"):\n",
    "    for point, name in ((A_pos, A_name),(B_pos, B_name)):\n",
    "        plt.plot(point[0],point[1],'bo')\n",
    "        plt.text(point[0] - 0.35, point[1], name, fontsize=14)\n",
    "        xs, ys = get_AB_line(A_pos, B_pos)\n",
    "        plt.plot(xs,ys)\n",
    "        \n",
    "def plot_rise_over_run(A_pos, B_pos):\n",
    "    plt.plot([A_pos[0], B_pos[0]], [A_pos[1], A_pos[1]], \"k--\")\n",
    "    plt.text((A_pos[0] + B_pos[0]) / 2, A_pos[1] - 0.4, \"run\", fontsize = 14)\n",
    "    plt.plot([B_pos[0], B_pos[0]], [A_pos[1], B_pos[1]], \"k--\")\n",
    "    plt.text(B_pos[0] + 0.2, (A_pos[1] + B_pos[1]) / 2, \"rise\", fontsize = 14)\n",
    "    \n",
    "def show(axis = 'equal', ax=None, title=None, xlabel=\"$x$\", ylabel=\"$y$\"):\n",
    "    ax = ax or plt.gca()\n",
    "    ax.axis(axis)\n",
    "    ax.grid()\n",
    "    ax.set_title(title, fontsize=14)\n",
    "    ax.set_xlabel(xlabel, fontsize=14)\n",
    "    ax.set_ylabel(ylabel, fontsize=14, rotation=0)\n",
    "    ax.axhline(y=0, color='k')\n",
    "    ax.axvline(x=0, color='k')\n",
    "    \n",
    "A_pos = np.array([1, 1])\n",
    "B_pos = np.array([7, 4])\n",
    "plot_AB_line(A_pos, B_pos)\n",
    "plot_rise_over_run(A_pos, B_pos)\n",
    "show([0, 8.4, 0, 5.5],title=\"Slope = rise / run\")"
   ]
  },
  {
   "cell_type": "code",
   "execution_count": null,
   "metadata": {},
   "outputs": [],
   "source": []
  }
 ],
 "metadata": {
  "kernelspec": {
   "display_name": "Python 3",
   "language": "python",
   "name": "python3"
  },
  "language_info": {
   "codemirror_mode": {
    "name": "ipython",
    "version": 3
   },
   "file_extension": ".py",
   "mimetype": "text/x-python",
   "name": "python",
   "nbconvert_exporter": "python",
   "pygments_lexer": "ipython3",
   "version": "3.8.2"
  }
 },
 "nbformat": 4,
 "nbformat_minor": 2
}
